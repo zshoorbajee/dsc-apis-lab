{
 "cells": [
  {
   "cell_type": "markdown",
   "metadata": {},
   "source": [
    "# APIs - Cumulative Lab\n",
    "\n",
    "\n",
    "## Introduction \n",
    "\n",
    "We've seen how the Yelp API works and how to create basic visualizations using Folium. It's time to put those skills to work in order to create a working map! Taking things a step further, you'll also independently explore how to perform pagination in order to retrieve a full results set from the Yelp API.\n",
    "\n",
    "## Objectives\n",
    "\n",
    "You will be able to: \n",
    "\n",
    "* Practice using functions to organize your code\n",
    "* Use pagination to retrieve all results from an API query\n",
    "* Practice parsing data returned from an API query\n",
    "* Practice interpreting visualizations of a dataset\n",
    "* Create maps using Folium"
   ]
  },
  {
   "cell_type": "markdown",
   "metadata": {},
   "source": [
    "## Your Task: Query Yelp for All Businesses in a Category and Analyze the Results\n",
    "\n",
    "![restaurant counter with pizza](images/restaurant_counter.jpg)\n",
    "\n",
    "Photo by <a href=\"https://unsplash.com/@jordanmadrid?utm_source=unsplash&utm_medium=referral&utm_content=creditCopyText\">Jordan Madrid</a> on <a href=\"/s/photos/pizza-restaurant?utm_source=unsplash&utm_medium=referral&utm_content=creditCopyText\">Unsplash</a>"
   ]
  },
  {
   "cell_type": "markdown",
   "metadata": {},
   "source": [
    "### Overview\n",
    "\n",
    "You've now worked with some API calls, but we have yet to see how to retrieve a more complete dataset in a programmatic manner. In this lab, you will write a query of businesses on Yelp, then use *pagination* to retrieve all possible results for that query. Then you will create a summary of your findings, including a Folium map of the geographic locations of those businesses.\n",
    "\n",
    "### Technical Details\n",
    "\n",
    "Returning to the Yelp API, the [documentation](https://www.yelp.com/developers/documentation/v3/business_search) also provides us details regarding the **API limits**. These often include details about the number of requests a user is allowed to make within a specified time limit and the maximum number of results to be returned. In this case, we are told that any request has a **maximum of 50 results per request** and defaults to 20. Furthermore, any search will be limited to a **total of 1000 results**. To retrieve all 1000 of these results, we would have to page through the results piece by piece, retrieving 50 at a time. Processes such as these are often referred to as pagination.\n",
    "\n",
    "Also, be mindful of the **API** ***rate*** **limits**. You can only make **5000 requests per day** and are also can make requests too fast. Start prototyping small before running a loop that could be faulty. You can also use `time.sleep(n)` to add delays. For more details see https://www.yelp.com/developers/documentation/v3/rate_limiting.\n",
    "\n",
    "In this lab, you will define a search and then paginate over the results to retrieve all of the results. You'll then parse these responses as a list of dictionaries (for further exploration) and create a map using Folium to visualize the results geographically.\n",
    "\n",
    "### Requirements\n",
    "\n",
    "#### 1. Make the Initial Request\n",
    "\n",
    "Start by filling in your API key to make the initial request to the business search API. Investigate the structure of the response you get back and start figuring out how you will extract the relevant information.\n",
    "\n",
    "#### 2. Add Pagination\n",
    "\n",
    "Using loops and functions, collect the maximum number of results for your query from the API.\n",
    "\n",
    "#### 3. Perform Exploratory Analysis\n",
    "\n",
    "Interpret visualizations related to the price range, average rating, and number of reviews for all query results.\n",
    "\n",
    "#### 4. Create a Folium Map\n",
    "\n",
    "Using latitude and longitude data, plot the query results on an interactive map."
   ]
  },
  {
   "cell_type": "markdown",
   "metadata": {},
   "source": [
    "## 1. Make the Initial Request\n",
    "\n",
    "### Querying\n",
    "\n",
    "Start by making an initial request to the Yelp API. Your search must include at least 2 parameters: **term** and **location**. For example, you might search for pizza restaurants in NYC. The term and location is up to you but make the request below.\n",
    "\n",
    "Use the `requests` library ([documentation here](https://requests.readthedocs.io/en/master/user/quickstart/#make-a-request)).\n",
    "\n",
    "You'll also need an API key from Yelp. If you haven't done this already, go to the Yelp [Manage App page](https://www.yelp.com/developers/v3/manage_app) and create a new app (after making an account if you haven't already)."
   ]
  },
  {
   "cell_type": "code",
   "execution_count": 2,
   "metadata": {},
   "outputs": [],
   "source": [
    "import requests\n",
    "import json\n",
    "\n",
    "with open('#####') as f:\n",
    "    api_file = json.load(f)"
   ]
  },
  {
   "cell_type": "code",
   "execution_count": 3,
   "metadata": {},
   "outputs": [
    {
     "data": {
      "text/plain": [
       "<Response [200]>"
      ]
     },
     "execution_count": 3,
     "metadata": {},
     "output_type": "execute_result"
    }
   ],
   "source": [
    "# Replace None with appropriate code\n",
    "\n",
    "# Import the requests library\n",
    "## Did this above\n",
    "\n",
    "\n",
    "# Get this from the \"Manage App\" page. Make sure you set them\n",
    "# back to None before pushing this to GitHub, since otherwise\n",
    "# your credentials will be compromised\n",
    "\n",
    "api_key = api_file['api_key']\n",
    "\n",
    "# These can be whatever you want! But the solution uses \"pizza\"\n",
    "# and \"New York NY\" if you want to compare your work directly\n",
    "term = 'pizza'\n",
    "location = 'Edinburgh Scotland'\n",
    "\n",
    "# Set up params for request\n",
    "url = \"https://api.yelp.com/v3/businesses/search\"\n",
    "headers = {\n",
    "    \"Authorization\": \"Bearer {}\".format(api_key)\n",
    "}\n",
    "url_params = {\n",
    "    \"term\": term.replace(\" \", \"+\"),\n",
    "    \"location\": location.replace(\" \", \"+\")\n",
    "}\n",
    "\n",
    "# Make the request using requests.get, passing in\n",
    "# url, headers=headers, and params=url_params\n",
    "response = requests.get(url=url, headers=headers, params=url_params)\n",
    "\n",
    "# Confirm we got a 200 response\n",
    "response"
   ]
  },
  {
   "cell_type": "code",
   "execution_count": 4,
   "metadata": {},
   "outputs": [
    {
     "data": {
      "text/plain": [
       "dict_keys(['businesses', 'total', 'region'])"
      ]
     },
     "execution_count": 4,
     "metadata": {},
     "output_type": "execute_result"
    }
   ],
   "source": [
    "# Run this cell without changes\n",
    "\n",
    "# Get the response body in JSON format\n",
    "response_json = response.json()\n",
    "# View the keys\n",
    "response_json.keys()"
   ]
  },
  {
   "cell_type": "markdown",
   "metadata": {},
   "source": [
    "### Extracting Data\n",
    "\n",
    "Now, retrieve the value associated with the `'businesses'` key, and inspect its contents."
   ]
  },
  {
   "cell_type": "code",
   "execution_count": 5,
   "metadata": {},
   "outputs": [
    {
     "data": {
      "text/plain": [
       "[{'id': 'VvkqEgxbT2BPCAx3OVeNOg',\n",
       "  'alias': 'dough-edinburgh',\n",
       "  'name': 'Dough',\n",
       "  'image_url': 'https://s3-media1.fl.yelpcdn.com/bphoto/UsNig0XeDBqGcFUyWr063w/o.jpg',\n",
       "  'is_closed': False,\n",
       "  'url': 'https://www.yelp.com/biz/dough-edinburgh?adjust_creative=ytTt4n66Vesq7He8jNoHIg&utm_campaign=yelp_api_v3&utm_medium=api_v3_business_search&utm_source=ytTt4n66Vesq7He8jNoHIg',\n",
       "  'review_count': 18,\n",
       "  'categories': [{'alias': 'pizza', 'title': 'Pizza'},\n",
       "   {'alias': 'hotdogs', 'title': 'Fast Food'},\n",
       "   {'alias': 'italian', 'title': 'Italian'}],\n",
       "  'rating': 4.0,\n",
       "  'coordinates': {'latitude': 55.9514261, 'longitude': -3.2041397},\n",
       "  'transactions': [],\n",
       "  'price': '££',\n",
       "  'location': {'address1': '172 Rose Street',\n",
       "   'address2': '',\n",
       "   'address3': '',\n",
       "   'city': 'Edinburgh',\n",
       "   'zip_code': 'EH2 4BA',\n",
       "   'country': 'GB',\n",
       "   'state': 'EDH',\n",
       "   'display_address': ['172 Rose Street',\n",
       "    'Edinburgh EH2 4BA',\n",
       "    'United Kingdom']},\n",
       "  'phone': '+441312251588',\n",
       "  'display_phone': '+44 131 225 1588',\n",
       "  'distance': 621.4741610745685},\n",
       " {'id': 'pM4mWLjeaZJlcdUxut2lMg',\n",
       "  'alias': 'vittoria-edinburgh-3',\n",
       "  'name': 'Vittoria',\n",
       "  'image_url': 'https://s3-media1.fl.yelpcdn.com/bphoto/M8z6gN5eGbe5Rl44NFDYqQ/o.jpg',\n",
       "  'is_closed': False,\n",
       "  'url': 'https://www.yelp.com/biz/vittoria-edinburgh-3?adjust_creative=ytTt4n66Vesq7He8jNoHIg&utm_campaign=yelp_api_v3&utm_medium=api_v3_business_search&utm_source=ytTt4n66Vesq7He8jNoHIg',\n",
       "  'review_count': 131,\n",
       "  'categories': [{'alias': 'italian', 'title': 'Italian'},\n",
       "   {'alias': 'pizza', 'title': 'Pizza'}],\n",
       "  'rating': 4.0,\n",
       "  'coordinates': {'latitude': 55.947794, 'longitude': -3.191887},\n",
       "  'transactions': [],\n",
       "  'price': '££',\n",
       "  'location': {'address1': '19 George IV Bridge',\n",
       "   'address2': '',\n",
       "   'address3': '',\n",
       "   'city': 'Edinburgh',\n",
       "   'zip_code': 'EH1 1EN',\n",
       "   'country': 'GB',\n",
       "   'state': 'EDH',\n",
       "   'display_address': ['19 George IV Bridge',\n",
       "    'Edinburgh EH1 1EN',\n",
       "    'United Kingdom']},\n",
       "  'phone': '+441312251740',\n",
       "  'display_phone': '+44 131 225 1740',\n",
       "  'distance': 240.65359683955265}]"
      ]
     },
     "execution_count": 5,
     "metadata": {},
     "output_type": "execute_result"
    }
   ],
   "source": [
    "# Replace None with appropriate code\n",
    "\n",
    "# Retrieve the value from response_json\n",
    "businesses = response_json['businesses']\n",
    "\n",
    "# View the first 2 records\n",
    "businesses[:2]"
   ]
  },
  {
   "cell_type": "markdown",
   "metadata": {},
   "source": [
    "### Preparing Data\n",
    "\n",
    "Write a function `prepare_data` that takes in a list of dictionaries like `businesses` and returns a copy that has been prepared for analysis:\n",
    "\n",
    "1. The `coordinates` key-value pair has been converted into two separate key-value pairs, `latitude` and `longitude`\n",
    "2. All other key-value pairs except for `name`, `review_count`, `rating`, and `price` have been dropped\n",
    "3. All dictionaries missing one of the relevant keys or containing null values have been dropped\n",
    "\n",
    "In other words, the final keys for each dictionary should be `name`, `review_count`, `rating`, `price`, `latitude`, and `longitude`.\n",
    "\n",
    "Complete the function in the cell below:"
   ]
  },
  {
   "cell_type": "code",
   "execution_count": 6,
   "metadata": {},
   "outputs": [
    {
     "data": {
      "text/plain": [
       "[{'name': 'Dough',\n",
       "  'review_count': 18,\n",
       "  'rating': 4.0,\n",
       "  'price': '££',\n",
       "  'latitude': 55.9514261,\n",
       "  'longitude': -3.2041397},\n",
       " {'name': 'Vittoria',\n",
       "  'review_count': 131,\n",
       "  'rating': 4.0,\n",
       "  'price': '££',\n",
       "  'latitude': 55.947794,\n",
       "  'longitude': -3.191887},\n",
       " {'name': 'Civerinos',\n",
       "  'review_count': 14,\n",
       "  'rating': 4.5,\n",
       "  'price': '££',\n",
       "  'latitude': 55.9455660158751,\n",
       "  'longitude': -3.19135313988113},\n",
       " {'name': 'Bar Italia',\n",
       "  'review_count': 39,\n",
       "  'rating': 4.5,\n",
       "  'price': '££',\n",
       "  'latitude': 55.9461441040039,\n",
       "  'longitude': -3.20600509643555},\n",
       " {'name': 'Croma Pizzeria',\n",
       "  'review_count': 3,\n",
       "  'rating': 4.5,\n",
       "  'price': '£',\n",
       "  'latitude': 55.9457321274055,\n",
       "  'longitude': -3.20581478554387}]"
      ]
     },
     "execution_count": 6,
     "metadata": {},
     "output_type": "execute_result"
    }
   ],
   "source": [
    "# Replace None with appropriate code\n",
    "\n",
    "def prepare_data(data_list):\n",
    "    \"\"\"\n",
    "    This function takes in a list of dictionaries and prepares it\n",
    "    for analysis\n",
    "    \"\"\"\n",
    "    \n",
    "    # Make a new list to hold results\n",
    "    results = []\n",
    "    \n",
    "    for business_data in data_list:\n",
    "    \n",
    "        # Make a new dictionary to hold prepared data for this business\n",
    "        prepared_data = {}\n",
    "        \n",
    "        # Extract name, review_count, rating, and price key-value pairs\n",
    "        # from business_data and add to prepared_data\n",
    "        # If a key is not present in business_data, add it to prepared_data\n",
    "        # with an associated value of None\n",
    "        desired_data_less_coords = ['name', 'review_count', 'rating', 'price']\n",
    "        for col in desired_data_less_coords:\n",
    "            if col in business_data:\n",
    "                prepared_data[col] = business_data[col]\n",
    "            else:\n",
    "                prepared_data[col] = None\n",
    "     \n",
    "        # Parse and add latitude and longitude columns\n",
    "        if 'coordinates' in business_data:\n",
    "            prepared_data['latitude'] = business_data['coordinates']['latitude']\n",
    "            prepared_data['longitude'] = business_data['coordinates']['longitude']\n",
    "        else:\n",
    "            prepared_data['latitude'] = None\n",
    "            prepared_data['longitude'] = None\n",
    "        \n",
    "        # Add to list if all values are present\n",
    "        if all(prepared_data.values()):\n",
    "            results.append(prepared_data)\n",
    "    \n",
    "    return results\n",
    "    \n",
    "# Test out function\n",
    "prepared_businesses = prepare_data(businesses)\n",
    "prepared_businesses[:5]"
   ]
  },
  {
   "cell_type": "markdown",
   "metadata": {},
   "source": [
    "Check that your function created the correct keys:"
   ]
  },
  {
   "cell_type": "code",
   "execution_count": 7,
   "metadata": {},
   "outputs": [],
   "source": [
    "# Run this cell without changes\n",
    "\n",
    "assert sorted(list(prepared_businesses[0].keys())) == ['latitude', 'longitude', 'name', 'price', 'rating', 'review_count']"
   ]
  },
  {
   "cell_type": "markdown",
   "metadata": {},
   "source": [
    "The following code will differ depending on your query, but we expect there to be 20 businesses in the original list, and potentially fewer in the prepared list (if any of them were missing data):"
   ]
  },
  {
   "cell_type": "code",
   "execution_count": 8,
   "metadata": {
    "scrolled": true
   },
   "outputs": [
    {
     "name": "stdout",
     "output_type": "stream",
     "text": [
      "Original: 20\n",
      "Prepared: 17\n"
     ]
    }
   ],
   "source": [
    "# Run this cell without changes\n",
    "print(\"Original:\", len(businesses))\n",
    "print(\"Prepared:\", len(prepared_businesses))"
   ]
  },
  {
   "cell_type": "markdown",
   "metadata": {},
   "source": [
    "Great! We will reuse this function once we have retrieved the full dataset."
   ]
  },
  {
   "cell_type": "markdown",
   "metadata": {},
   "source": [
    "## 2. Add Pagination\n",
    "\n",
    "Now that you are able to extract information from one page of the response, let's figure out how to request as many pages as possible.\n",
    "\n",
    "### Determining the Total\n",
    "\n",
    "Depending on the number of total results for your query, you will either retrieve all of the results, or just the first 1000 (if there are more than 1000 total).\n",
    "\n",
    "We can find the total number of results using the `\"total\"` key:"
   ]
  },
  {
   "cell_type": "code",
   "execution_count": 9,
   "metadata": {},
   "outputs": [
    {
     "data": {
      "text/plain": [
       "240"
      ]
     },
     "execution_count": 9,
     "metadata": {},
     "output_type": "execute_result"
    }
   ],
   "source": [
    "# Run this cell without changes\n",
    "response_json[\"total\"]"
   ]
  },
  {
   "cell_type": "markdown",
   "metadata": {},
   "source": [
    "(This is specific to the implementation of the Yelp API. Some APIs will just tell you that there are more pages, or will tell you the number of pages total, rather than the total number of results. If you're not sure, always check the documentation.)\n",
    "\n",
    "In the cell below, assign the variable `total` to either the value shown above (if it is less than 1000), or 1000."
   ]
  },
  {
   "cell_type": "code",
   "execution_count": 10,
   "metadata": {},
   "outputs": [],
   "source": [
    "# Replace None with appropriate code\n",
    "total = 240"
   ]
  },
  {
   "cell_type": "markdown",
   "metadata": {},
   "source": [
    "### Calculating the Offsets\n",
    "\n",
    "The documentation states in the parameters section:\n",
    "\n",
    "> **Name**: `limit`, **Type:** int, **Description:** Optional. Number of business results to return. By default, it will return 20. Maximum is 50.\n",
    "\n",
    "> **Name**: `offset`, **Type:** int, **Description:** Optional. Offset the list of returned business results by this amount.\n",
    "\n",
    "So, to get the most results with the fewest API calls we want to set a limit of 50 every time. If, say, we wanted to get 210 total results, that would mean:\n",
    "\n",
    "1. Offset of `0` (first 50 records)\n",
    "2. Offset of `50` (second 50 records)\n",
    "3. Offset of `100` (third 50 records)\n",
    "4. Offset of `150` (fourth 50 records)\n",
    "5. Offset of `200` (final 10 records)\n",
    "\n",
    "In the cell below, create a function `get_offsets` that takes in a total and returns a list of offsets for that total. You can assume that there is a limit of 50 every time.\n",
    "\n",
    "*Hint: you can use `range` ([documentation here](https://docs.python.org/3.3/library/stdtypes.html?highlight=range#range)) to do this in one line of code. Just make the returned result is a list.*"
   ]
  },
  {
   "cell_type": "code",
   "execution_count": 11,
   "metadata": {},
   "outputs": [],
   "source": [
    "# Replace None with appropriate code\n",
    "def get_offsets(total):\n",
    "    \"\"\"\n",
    "    Get a list of offsets needed to get all pages\n",
    "    of data up until the total\n",
    "    \"\"\"\n",
    "    return list(range(0, total, 50))"
   ]
  },
  {
   "cell_type": "markdown",
   "metadata": {},
   "source": [
    "Check that your function works below:"
   ]
  },
  {
   "cell_type": "code",
   "execution_count": 12,
   "metadata": {},
   "outputs": [],
   "source": [
    "# Run this cell without changes\n",
    "\n",
    "assert get_offsets(200) == [0, 50, 100, 150]\n",
    "assert get_offsets(210) == [0, 50, 100, 150, 200]"
   ]
  },
  {
   "cell_type": "markdown",
   "metadata": {},
   "source": [
    "### Putting It All Together\n",
    "\n",
    "Recall that the following variable has already been declared for you:"
   ]
  },
  {
   "cell_type": "code",
   "execution_count": 13,
   "metadata": {},
   "outputs": [
    {
     "data": {
      "text/plain": [
       "{'term': 'pizza', 'location': 'Edinburgh+Scotland'}"
      ]
     },
     "execution_count": 13,
     "metadata": {},
     "output_type": "execute_result"
    }
   ],
   "source": [
    "# Run this cell without changes\n",
    "url_params"
   ]
  },
  {
   "cell_type": "markdown",
   "metadata": {},
   "source": [
    "We'll go ahead and also specify that the limit should be 50 every time:"
   ]
  },
  {
   "cell_type": "code",
   "execution_count": 14,
   "metadata": {},
   "outputs": [],
   "source": [
    "# Run this cell without changes\n",
    "url_params[\"limit\"] = 50"
   ]
  },
  {
   "cell_type": "markdown",
   "metadata": {},
   "source": [
    "In order to modify the offset, you'll need to add it to `url_params` with the key `\"offset\"` and whatever value is needed.\n",
    "\n",
    "In the cell below, write code that:\n",
    "\n",
    "* Creates an empty list for the full prepared dataset\n",
    "* Loops over all of the offsets from `get_offsets` and makes an API call each time with the specified offset\n",
    "* Calls `prepare_data` to get a cleaned version of the result of each API call\n",
    "* Extends the full prepared dataset list with each query's prepared dataset"
   ]
  },
  {
   "cell_type": "code",
   "execution_count": 15,
   "metadata": {},
   "outputs": [
    {
     "data": {
      "text/plain": [
       "173"
      ]
     },
     "execution_count": 15,
     "metadata": {},
     "output_type": "execute_result"
    }
   ],
   "source": [
    "# Replace None with appropriate code\n",
    "\n",
    "# Create an empty list for the full prepared dataset\n",
    "full_dataset = []\n",
    "\n",
    "for offset in get_offsets(total):\n",
    "    # Add or update the \"offset\" key-value pair in url_params\n",
    "    url_params['offset'] = offset\n",
    "    \n",
    "    # Make the query and get the response\n",
    "    response = requests.get(url, headers=headers, params=url_params)\n",
    "    \n",
    "    # Get the response body in JSON format\n",
    "    response_json = response.json()\n",
    "    \n",
    "    # Get the list of businesses from the response_json\n",
    "    businesses = response_json['businesses']\n",
    "    \n",
    "    # Call the prepare_data function to get a list of processed data\n",
    "    prepared_businesses = prepare_data(businesses)\n",
    "    \n",
    "    # Extend full_dataset with this list (don't append, or you'll get\n",
    "    # a list of lists instead of a flat list)\n",
    "    full_dataset.extend(prepared_businesses)\n",
    "\n",
    "# Check the length of the full dataset. It will be up to `total`,\n",
    "# potentially less if there were missing values\n",
    "len(full_dataset)"
   ]
  },
  {
   "cell_type": "markdown",
   "metadata": {},
   "source": [
    "This code may take up to a few minutes to run.\n",
    "\n",
    "If you get an error trying to get the response body in JSON format, try adding `time.sleep(1)` right after the `requests.get` line, so your code will sleep for 1 second between each API call."
   ]
  },
  {
   "cell_type": "markdown",
   "metadata": {},
   "source": [
    "## 3. Perform Exploratory Analysis\n",
    "\n",
    "Take the businesses from the previous question and do an initial exploratory analysis. We have provided some plots for you to interpret:"
   ]
  },
  {
   "cell_type": "code",
   "execution_count": 16,
   "metadata": {},
   "outputs": [],
   "source": [
    "import numpy as np"
   ]
  },
  {
   "cell_type": "code",
   "execution_count": 17,
   "metadata": {},
   "outputs": [
    {
     "data": {
      "image/png": "[encoded data removed]",
      "text/plain": [
       "<Figure size 1152x360 with 3 Axes>"
      ]
     },
     "metadata": {
      "needs_background": "light"
     },
     "output_type": "display_data"
    }
   ],
   "source": [
    "# Run this cell without changes\n",
    "from collections import Counter\n",
    "import matplotlib.pyplot as plt\n",
    "%matplotlib inline\n",
    "\n",
    "fig, (ax1, ax2, ax3) = plt.subplots(ncols=3, figsize=(16, 5))\n",
    "\n",
    "# Plot distribution of number of reviews\n",
    "all_review_counts = [x[\"review_count\"] for x in full_dataset]\n",
    "ax1.hist(all_review_counts)\n",
    "ax1.set_title(\"Review Count Distribution\")\n",
    "ax1.set_xlabel(\"Number of Reviews\")\n",
    "ax1.set_ylabel(\"Number of Businesses\")\n",
    "ax1.axvline(np.median(all_review_counts), color='purple', label='median')\n",
    "ax1.axvline(np.mean(all_review_counts), color='red', label='mean')\n",
    "ax1.legend()\n",
    "\n",
    "# Plot rating distribution\n",
    "all_ratings = [x[\"rating\"] for x in full_dataset]\n",
    "rating_counter = Counter(all_ratings)\n",
    "rating_keys = sorted(rating_counter.keys())\n",
    "ax2.bar(rating_keys, [rating_counter[key] for key in rating_keys])\n",
    "ax2.set_title(\"Rating Distribution\")\n",
    "ax2.set_xlabel(\"Rating\")\n",
    "ax2.set_ylabel(\"Number of Businesses\")\n",
    "\n",
    "# Plot price distribution\n",
    "all_prices = [x[\"price\"].replace(\"$\", r\"\\$\") for x in full_dataset]\n",
    "price_counter = Counter(all_prices)\n",
    "price_keys = sorted(price_counter.keys())\n",
    "ax3.bar(price_keys, [price_counter[key] for key in price_keys])\n",
    "ax3.set_title(\"Price Distribution\")\n",
    "ax3.set_xlabel(\"Price Category\")\n",
    "ax3.set_ylabel(\"Number of Businesses\");"
   ]
  },
  {
   "cell_type": "markdown",
   "metadata": {},
   "source": [
    "Describe the distributions displayed above and interpret them in the context of your query. (Your answer may differ from the solution branch depending on your query.)"
   ]
  },
  {
   "cell_type": "code",
   "execution_count": 18,
   "metadata": {},
   "outputs": [
    {
     "data": {
      "text/plain": [
       "'\\nSee MD cell below\\n'"
      ]
     },
     "execution_count": 18,
     "metadata": {},
     "output_type": "execute_result"
    }
   ],
   "source": [
    "# Replace None with appropriate text\n",
    "\"\"\"\n",
    "See MD cell below\n",
    "\"\"\""
   ]
  },
  {
   "cell_type": "markdown",
   "metadata": {},
   "source": [
    "* Most pizza restaurants in Edinburgh have a low number of reviews, but there are one or a few with more than 250.\n",
    "* The rating distribution peaks around 3.5 or 4. \n",
    "* Most places have a £ or ££ price. "
   ]
  },
  {
   "cell_type": "code",
   "execution_count": 19,
   "metadata": {},
   "outputs": [
    {
     "name": "stdout",
     "output_type": "stream",
     "text": [
      "{'name': 'The Elephant House', 'review_count': 279, 'rating': 3.0, 'price': '££', 'latitude': 55.947342, 'longitude': -3.19171}\n"
     ]
    }
   ],
   "source": [
    "for pizza in full_dataset:\n",
    "    if pizza['review_count'] > 200:\n",
    "        print(pizza)"
   ]
  },
  {
   "cell_type": "markdown",
   "metadata": {},
   "source": [
    "> As it turns out, the restaurant with outlier number of reviews is **The Elephant House**. The cafe is famous because J. K. Rowling was known to write there when she was working on the *Harry Potter* series. It's also not necessarily known for pizza. In a higher-stakes analysis, we probably ought to remove it from the dataset, along with others like it."
   ]
  },
  {
   "cell_type": "markdown",
   "metadata": {},
   "source": [
    "In the cell below, we also plot the rating distributions by price. In this setup, a price of one dollar sign is \"lower price\" and everything else is \"higher price\"."
   ]
  },
  {
   "cell_type": "code",
   "execution_count": 20,
   "metadata": {},
   "outputs": [
    {
     "data": {
      "image/png": "[encoded data removed]",
      "text/plain": [
       "<Figure size 432x288 with 1 Axes>"
      ]
     },
     "metadata": {
      "needs_background": "light"
     },
     "output_type": "display_data"
    }
   ],
   "source": [
    "# Run this cell without changes\n",
    "\n",
    "higher_price = []\n",
    "lower_price = []\n",
    "for row in full_dataset:\n",
    "    if row[\"price\"] == \"£\":\n",
    "        lower_price.append(row[\"rating\"])\n",
    "    else:\n",
    "        higher_price.append(row[\"rating\"])\n",
    "        \n",
    "fig, ax = plt.subplots()\n",
    "\n",
    "ax.hist([higher_price, lower_price], label=[\"higher price\", \"lower price\"], density=True)\n",
    "\n",
    "ax.legend();"
   ]
  },
  {
   "cell_type": "markdown",
   "metadata": {},
   "source": [
    "Is a higher price associated with a higher rating? (No need for any additional math/statistics, just interpret what you see in the plot.)"
   ]
  },
  {
   "cell_type": "code",
   "execution_count": 21,
   "metadata": {},
   "outputs": [
    {
     "data": {
      "text/plain": [
       "'\\nSE md cell below.\\n'"
      ]
     },
     "execution_count": 21,
     "metadata": {},
     "output_type": "execute_result"
    }
   ],
   "source": [
    "# Replace None with appropriate text\n",
    "\"\"\"\n",
    "SE md cell below.\n",
    "\"\"\""
   ]
  },
  {
   "cell_type": "markdown",
   "metadata": {},
   "source": [
    "It depends. For restaurantes with ratings of 4 and above, there are more restaurants with a higher price. For ratings of 3.5 and blow, the restaurants tend to have a lower price."
   ]
  },
  {
   "cell_type": "markdown",
   "metadata": {},
   "source": [
    "Finally, let's look at ratings vs. review counts:"
   ]
  },
  {
   "cell_type": "code",
   "execution_count": 22,
   "metadata": {},
   "outputs": [
    {
     "data": {
      "image/png": "[encoded data removed]",
      "text/plain": [
       "<Figure size 1152x360 with 1 Axes>"
      ]
     },
     "metadata": {
      "needs_background": "light"
     },
     "output_type": "display_data"
    }
   ],
   "source": [
    "# Run this cell without changes\n",
    "fig, ax = plt.subplots(figsize=(16,5))\n",
    "\n",
    "ax.scatter(all_review_counts, all_ratings, alpha=0.2)\n",
    "ax.set_xlabel(\"Number of Reviews\")\n",
    "ax.set_ylabel(\"Rating\")\n",
    "# \"zoom in\" to a subset of review counts\n",
    "ax.set_xlim(left=0, right=400);"
   ]
  },
  {
   "cell_type": "markdown",
   "metadata": {},
   "source": [
    "Is a higher number of reviews associated with a higher rating?"
   ]
  },
  {
   "cell_type": "code",
   "execution_count": 23,
   "metadata": {},
   "outputs": [
    {
     "data": {
      "text/plain": [
       "'\\nSee MD cell below.\\n'"
      ]
     },
     "execution_count": 23,
     "metadata": {},
     "output_type": "execute_result"
    }
   ],
   "source": [
    "# Replace None with appropriate text\n",
    "\"\"\"\n",
    "See MD cell below.\n",
    "\"\"\""
   ]
  },
  {
   "cell_type": "markdown",
   "metadata": {},
   "source": [
    "It would be safer not to draw conclusions as the dataset might be too small. The scatter plot shows that restaurants with a rating of 4.0 maigh have a tendency to have more reviews. But restaurants with higher reviews than that have fiewer reviews."
   ]
  },
  {
   "cell_type": "markdown",
   "metadata": {},
   "source": [
    "## 4. Create a Folium Map\n",
    "\n",
    "Make a map using Folium of the businesses you retrieved. Be sure to also add popups to the markers giving some basic information such as name, rating and price.\n",
    "\n",
    "You can center the map around the latitude and longitude of the first item in `full_dataset`."
   ]
  },
  {
   "cell_type": "code",
   "execution_count": 24,
   "metadata": {
    "scrolled": false
   },
   "outputs": [
    {
     "data": {
      "text/html": [
       "<div style=\"width:100%;\"><div style=\"position:relative;width:100%;height:0;padding-bottom:60%;\"><span style=\"color:#565656\">Make this Notebook Trusted to load map: File -> Trust Notebook</span><iframe src=\"about:blank\" style=\"position:absolute;width:100%;height:100%;left:0;top:0;border:none !important;\" data-html=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 onload=\"this.contentDocument.open();this.contentDocument.write(atob(this.getAttribute('data-html')));this.contentDocument.close();\" allowfullscreen webkitallowfullscreen mozallowfullscreen></iframe></div></div>"
      ],
      "text/plain": [
       "<folium.folium.Map at 0x266d71cc7f0>"
      ]
     },
     "execution_count": 24,
     "metadata": {},
     "output_type": "execute_result"
    }
   ],
   "source": [
    "# Replace None with appropriate code\n",
    "\n",
    "# Import the library\n",
    "import folium\n",
    "\n",
    "# Set up center latitude and longitude\n",
    "center_lat = full_dataset[0]['latitude']\n",
    "center_long = full_dataset[0]['longitude']\n",
    "\n",
    "# Initialize map with center lat and long\n",
    "yelp_map = folium.Map([center_lat, center_long], zoom_start=13)\n",
    "\n",
    "# Adjust this limit to see more or fewer businesses\n",
    "limit=100\n",
    "\n",
    "for business in full_dataset[:limit]:\n",
    "    # Extract information about business\n",
    "    lat = business['latitude']\n",
    "    long = business['longitude']\n",
    "    name = business['name']\n",
    "    rating = business['rating']\n",
    "    price = business['price']\n",
    "    details = \"{}\\nPrice: {} Rating:{}\".format(name,price,rating)\n",
    "    \n",
    "    # Create popup with relevant details\n",
    "    popup =  folium.Popup(details, parse_html=True)\n",
    "    \n",
    "    # Create marker with relevant lat/long and popup\n",
    "    marker = folium.Marker(location=[lat, long], popup=popup)\n",
    "    \n",
    "    marker.add_to(yelp_map)\n",
    "    \n",
    "yelp_map"
   ]
  },
  {
   "cell_type": "markdown",
   "metadata": {},
   "source": [
    "## Summary\n",
    "\n",
    "Nice work! In this lab, you've made multiple API calls to Yelp in order to paginate through a results set, performing some basic exploratory analysis and then creating a nice interactive map to display the results using Folium! Well done!"
   ]
  }
 ],
 "metadata": {
  "kernelspec": {
   "display_name": "Python 3",
   "language": "python",
   "name": "python3"
  },
  "language_info": {
   "codemirror_mode": {
    "name": "ipython",
    "version": 3
   },
   "file_extension": ".py",
   "mimetype": "text/x-python",
   "name": "python",
   "nbconvert_exporter": "python",
   "pygments_lexer": "ipython3",
   "version": "3.8.5"
  },
  "toc": {
   "base_numbering": 1,
   "nav_menu": {},
   "number_sections": true,
   "sideBar": true,
   "skip_h1_title": false,
   "title_cell": "Table of Contents",
   "title_sidebar": "Contents",
   "toc_cell": false,
   "toc_position": {},
   "toc_section_display": true,
   "toc_window_display": false
  }
 },
 "nbformat": 4,
 "nbformat_minor": 2
}
